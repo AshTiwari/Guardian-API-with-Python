{
 "cells": [
  {
   "cell_type": "markdown",
   "id": "d53566b4",
   "metadata": {},
   "source": [
    "# Gathering, Plotting and Analyzing Brexit Data with Python and Guardian API "
   ]
  },
  {
   "cell_type": "markdown",
   "id": "2f22a13c",
   "metadata": {},
   "source": [
    "## 1. Dependencies "
   ]
  },
  {
   "cell_type": "code",
   "execution_count": 59,
   "id": "83377ad4",
   "metadata": {},
   "outputs": [],
   "source": [
    "import requests\n",
    "from pprint import pprint\n",
    "from datetime import datetime\n",
    "import pandas as pd\n",
    "import matplotlib.pyplot as plt"
   ]
  },
  {
   "cell_type": "markdown",
   "id": "ae1ed24c",
   "metadata": {},
   "source": [
    " "
   ]
  },
  {
   "cell_type": "markdown",
   "id": "6fa2ecd0",
   "metadata": {},
   "source": [
    " "
   ]
  },
  {
   "cell_type": "markdown",
   "id": "59cd86de",
   "metadata": {},
   "source": [
    " "
   ]
  },
  {
   "cell_type": "markdown",
   "id": "bb965e3b",
   "metadata": {},
   "source": [
    " "
   ]
  },
  {
   "cell_type": "markdown",
   "id": "15b31808",
   "metadata": {},
   "source": [
    "## 2. API Mapper\n",
    "\n",
    "- guardianApi is an attempt to create a mapper which maps Object Oriented Design to API. \n",
    "- With help of guardianApi, developers won't have to manually create or change an API. \n",
    "- Instead they can create and object of the API and then add the parameters with help of methods.\n",
    "- There are two default methods to add the parameters:\n",
    "    - addQuery\n",
    "    - addFromDate\n",
    "- And an addOtherParams to add anyother parameter to the guardian api.\n",
    "- It takes two values: parameter name and paramter value."
   ]
  },
  {
   "cell_type": "code",
   "execution_count": 22,
   "id": "aab46f26",
   "metadata": {},
   "outputs": [],
   "source": [
    "class guardianApi:\n",
    "    def __init__(self, key):\n",
    "        self.base_api = \"https://content.guardianapis.com/search?api-key=\"+key.strip()\n",
    "        self.api = self.base_api\n",
    "        self.params = {}\n",
    "\n",
    "    def constructApi(self):\n",
    "        self.api = self.base_api\n",
    "        for key, value in self.params.items():\n",
    "            self.api += f\"&{key}={value}\"\n",
    "            \n",
    "    def addQuery(self, query):\n",
    "        self.params[\"q\"] = query.strip()\n",
    "        self.constructApi() \n",
    "\n",
    "    def addFromDate(self, date):\n",
    "        self.params[\"from-date\"] = date.strip()\n",
    "        self.constructApi()\n",
    "        \n",
    "    def addOtherParams(self, param_name, param_value):\n",
    "        self.params[param_name] = param_value\n",
    "        self.constructApi()\n",
    "        \n",
    "    def response(self):\n",
    "        response = requests.get(self.api)\n",
    "        return response.json()\n",
    "        \n",
    "    def createDict(self, page_size = 10):\n",
    "        total_articles = brexit_api.response()[\"response\"][\"total\"]\n",
    "        freq_dict = {}\n",
    "        for pageNum in range(1,total_articles//page_size+2):\n",
    "            self.addOtherParams(\"page\",pageNum)\n",
    "            response = self.response()\n",
    "            for i in range(len(response[\"response\"][\"results\"])):\n",
    "                date_key = response[\"response\"][\"results\"][i]['webPublicationDate']\n",
    "                date_key = datetime.strptime(date_key, '%Y-%m-%dT%H:%M:%SZ')\n",
    "                date_key = date_key.date()\n",
    "                freq_dict[date_key] = freq_dict.get(date_key, 0) + 1\n",
    "        return freq_dict"
   ]
  },
  {
   "cell_type": "markdown",
   "id": "30fdd568",
   "metadata": {},
   "source": [
    " "
   ]
  },
  {
   "cell_type": "markdown",
   "id": "42db66c4",
   "metadata": {},
   "source": [
    " "
   ]
  },
  {
   "cell_type": "markdown",
   "id": "c0c7ea05",
   "metadata": {},
   "source": [
    "## Generating the API & Creating Frequency Dictionary\n",
    "\n",
    "- Add your own key in the my_key variable.\n",
    "- freq_dict is the Frequency Dicionary. "
   ]
  },
  {
   "cell_type": "code",
   "execution_count": 23,
   "id": "75dcb402",
   "metadata": {},
   "outputs": [],
   "source": [
    "my_key = \"\"\n",
    "brexit_api = guardianApi(my_key)\n",
    "brexit_api.addQuery(\"brexit\")\n",
    "brexit_api.addFromDate(\"2018-01-01\")\n",
    "brexit_api.addOtherParams(\"page-size\",50)\n",
    "brexit_api.addOtherParams(\"order-by\",\"oldest\")\n",
    "freq_dict = brexit_api.createDict(50)"
   ]
  },
  {
   "cell_type": "markdown",
   "id": "2e9d7f16",
   "metadata": {},
   "source": [
    " "
   ]
  },
  {
   "cell_type": "markdown",
   "id": "1697ecde",
   "metadata": {},
   "source": [
    " "
   ]
  },
  {
   "cell_type": "markdown",
   "id": "769c72a3",
   "metadata": {},
   "source": [
    "## Creating Data Frame with frequency dictionary  "
   ]
  },
  {
   "cell_type": "code",
   "execution_count": 24,
   "id": "53d38c49",
   "metadata": {},
   "outputs": [
    {
     "name": "stdout",
     "output_type": "stream",
     "text": [
      "            0   1\n",
      "0  2018-01-01  13\n",
      "1  2018-01-02  15\n",
      "2  2018-01-03  16\n",
      "3  2018-01-04  19\n",
      "4  2018-01-05  21\n"
     ]
    }
   ],
   "source": [
    "df = pd.DataFrame.from_dict(freq_dict.items())\n",
    "print(df.head())"
   ]
  },
  {
   "cell_type": "markdown",
   "id": "d1907308",
   "metadata": {},
   "source": [
    " "
   ]
  },
  {
   "cell_type": "markdown",
   "id": "3517df79",
   "metadata": {},
   "source": [
    " "
   ]
  },
  {
   "cell_type": "markdown",
   "id": "20111b68",
   "metadata": {},
   "source": [
    "## Saving the Data Frame to csv file\n",
    "\n",
    "- Save the dataframe as the csv file.\n",
    "- Creating the Frequency Dictionary is a costly process and need not to be executed everytime.\n",
    "- Whereas importing a csv file is a fast process and hence is preferable."
   ]
  },
  {
   "cell_type": "code",
   "execution_count": 26,
   "id": "5b03dc83",
   "metadata": {},
   "outputs": [],
   "source": [
    "df.to_csv('brexit_timeseries.csv', index=False)"
   ]
  },
  {
   "cell_type": "markdown",
   "id": "83bd822a",
   "metadata": {},
   "source": [
    " "
   ]
  },
  {
   "cell_type": "markdown",
   "id": "4f460bed",
   "metadata": {},
   "source": [
    " "
   ]
  },
  {
   "cell_type": "markdown",
   "id": "1a132229",
   "metadata": {},
   "source": [
    " "
   ]
  },
  {
   "cell_type": "markdown",
   "id": "df4add4e",
   "metadata": {},
   "source": [
    " "
   ]
  },
  {
   "cell_type": "markdown",
   "id": "22239495",
   "metadata": {},
   "source": [
    "## 3. Analyzing the data "
   ]
  },
  {
   "cell_type": "markdown",
   "id": "b6be9ddb",
   "metadata": {},
   "source": [
    "## Average value of the Number of Articles "
   ]
  },
  {
   "cell_type": "code",
   "execution_count": 28,
   "id": "2f0c8abb",
   "metadata": {},
   "outputs": [
    {
     "data": {
      "text/plain": [
       "19.380890052356023"
      ]
     },
     "execution_count": 28,
     "metadata": {},
     "output_type": "execute_result"
    }
   ],
   "source": [
    "df[1].mean()"
   ]
  },
  {
   "cell_type": "markdown",
   "id": "353edbb7",
   "metadata": {},
   "source": [
    "## Other statistics of the data\n",
    "\n",
    "- There are 1528 records i.e. the number of days when Brexit related article was published.\n",
    "- On an average, 19 articles were print in those days.\n",
    "- Number of days since 01-01-2018 to today 09-03-2022 is 1528.\n",
    "- It means that each day atleast one article was published.\n",
    "- The minimum number of article published is 1.\n",
    "- The maximum number of article published is 77. "
   ]
  },
  {
   "cell_type": "code",
   "execution_count": 32,
   "id": "10f4f1c9",
   "metadata": {},
   "outputs": [
    {
     "data": {
      "text/plain": [
       "count    1528.000000\n",
       "mean       19.380890\n",
       "std        11.402682\n",
       "min         1.000000\n",
       "25%        10.000000\n",
       "50%        16.500000\n",
       "75%        27.000000\n",
       "max        77.000000\n",
       "Name: 1, dtype: float64"
      ]
     },
     "execution_count": 32,
     "metadata": {},
     "output_type": "execute_result"
    }
   ],
   "source": [
    "df[1].describe()"
   ]
  },
  {
   "cell_type": "markdown",
   "id": "da34a494",
   "metadata": {},
   "source": [
    " "
   ]
  },
  {
   "cell_type": "markdown",
   "id": "a6eb0648",
   "metadata": {},
   "source": [
    "## What day was most article written?\n",
    "\n",
    "- Below data show the top 10 days when the highest number of articles were published.\n",
    "- It is observed that the highest number of articles were published on 2019-12-13."
   ]
  },
  {
   "cell_type": "code",
   "execution_count": 41,
   "id": "91c53100",
   "metadata": {},
   "outputs": [
    {
     "data": {
      "text/html": [
       "<div>\n",
       "<style scoped>\n",
       "    .dataframe tbody tr th:only-of-type {\n",
       "        vertical-align: middle;\n",
       "    }\n",
       "\n",
       "    .dataframe tbody tr th {\n",
       "        vertical-align: top;\n",
       "    }\n",
       "\n",
       "    .dataframe thead th {\n",
       "        text-align: right;\n",
       "    }\n",
       "</style>\n",
       "<table border=\"1\" class=\"dataframe\">\n",
       "  <thead>\n",
       "    <tr style=\"text-align: right;\">\n",
       "      <th></th>\n",
       "      <th>0</th>\n",
       "      <th>1</th>\n",
       "    </tr>\n",
       "  </thead>\n",
       "  <tbody>\n",
       "    <tr>\n",
       "      <th>711</th>\n",
       "      <td>2019-12-13</td>\n",
       "      <td>77</td>\n",
       "    </tr>\n",
       "    <tr>\n",
       "      <th>380</th>\n",
       "      <td>2019-01-16</td>\n",
       "      <td>69</td>\n",
       "    </tr>\n",
       "    <tr>\n",
       "      <th>436</th>\n",
       "      <td>2019-03-13</td>\n",
       "      <td>68</td>\n",
       "    </tr>\n",
       "    <tr>\n",
       "      <th>318</th>\n",
       "      <td>2018-11-15</td>\n",
       "      <td>63</td>\n",
       "    </tr>\n",
       "    <tr>\n",
       "      <th>611</th>\n",
       "      <td>2019-09-04</td>\n",
       "      <td>61</td>\n",
       "    </tr>\n",
       "    <tr>\n",
       "      <th>378</th>\n",
       "      <td>2019-01-14</td>\n",
       "      <td>55</td>\n",
       "    </tr>\n",
       "    <tr>\n",
       "      <th>394</th>\n",
       "      <td>2019-01-30</td>\n",
       "      <td>53</td>\n",
       "    </tr>\n",
       "    <tr>\n",
       "      <th>352</th>\n",
       "      <td>2018-12-19</td>\n",
       "      <td>52</td>\n",
       "    </tr>\n",
       "    <tr>\n",
       "      <th>381</th>\n",
       "      <td>2019-01-17</td>\n",
       "      <td>52</td>\n",
       "    </tr>\n",
       "    <tr>\n",
       "      <th>386</th>\n",
       "      <td>2019-01-22</td>\n",
       "      <td>52</td>\n",
       "    </tr>\n",
       "  </tbody>\n",
       "</table>\n",
       "</div>"
      ],
      "text/plain": [
       "              0   1\n",
       "711  2019-12-13  77\n",
       "380  2019-01-16  69\n",
       "436  2019-03-13  68\n",
       "318  2018-11-15  63\n",
       "611  2019-09-04  61\n",
       "378  2019-01-14  55\n",
       "394  2019-01-30  53\n",
       "352  2018-12-19  52\n",
       "381  2019-01-17  52\n",
       "386  2019-01-22  52"
      ]
     },
     "execution_count": 41,
     "metadata": {},
     "output_type": "execute_result"
    }
   ],
   "source": [
    "df.nlargest(n=10, columns=[1])"
   ]
  },
  {
   "cell_type": "markdown",
   "id": "48285687",
   "metadata": {},
   "source": [
    " "
   ]
  },
  {
   "cell_type": "markdown",
   "id": "0894e690",
   "metadata": {},
   "source": [
    " "
   ]
  },
  {
   "cell_type": "markdown",
   "id": "27d9161b",
   "metadata": {},
   "source": [
    " "
   ]
  },
  {
   "cell_type": "markdown",
   "id": "13e8912a",
   "metadata": {},
   "source": [
    " "
   ]
  },
  {
   "cell_type": "markdown",
   "id": "422bf6db",
   "metadata": {},
   "source": [
    "## 4. Plotting the time series "
   ]
  },
  {
   "cell_type": "code",
   "execution_count": 60,
   "id": "a8456201",
   "metadata": {},
   "outputs": [
    {
     "data": {
      "image/png": "[encoded data removed]",
      "text/plain": [
       "<Figure size 1152x360 with 1 Axes>"
      ]
     },
     "metadata": {
      "needs_background": "light"
     },
     "output_type": "display_data"
    }
   ],
   "source": [
    "plt.figure(figsize=(16,5))\n",
    "plt.plot(df[0], df[1])\n",
    "plt.gca().set(title=\"Evolution of Number of Articles as a timeseries\", xlabel=\"Date\", ylabel=\"Number of Articles\")\n",
    "plt.show()"
   ]
  },
  {
   "cell_type": "markdown",
   "id": "9b03bc81",
   "metadata": {},
   "source": [
    " "
   ]
  },
  {
   "cell_type": "markdown",
   "id": "1d74bb96",
   "metadata": {},
   "source": [
    " "
   ]
  },
  {
   "cell_type": "markdown",
   "id": "d092c7b5",
   "metadata": {},
   "source": [
    " "
   ]
  },
  {
   "cell_type": "markdown",
   "id": "d40f7d1e",
   "metadata": {},
   "source": [
    "## Decrease in the frequency is onserved since 2020 "
   ]
  },
  {
   "cell_type": "code",
   "execution_count": null,
   "id": "5b50d816",
   "metadata": {},
   "outputs": [],
   "source": [
    "date1 = datetime.strptime('2020-01-01', \"%Y-%m-%d\").date()"
   ]
  },
  {
   "cell_type": "code",
   "execution_count": 52,
   "id": "c69f155a",
   "metadata": {},
   "outputs": [
    {
     "data": {
      "text/html": [
       "<div>\n",
       "<style scoped>\n",
       "    .dataframe tbody tr th:only-of-type {\n",
       "        vertical-align: middle;\n",
       "    }\n",
       "\n",
       "    .dataframe tbody tr th {\n",
       "        vertical-align: top;\n",
       "    }\n",
       "\n",
       "    .dataframe thead th {\n",
       "        text-align: right;\n",
       "    }\n",
       "</style>\n",
       "<table border=\"1\" class=\"dataframe\">\n",
       "  <thead>\n",
       "    <tr style=\"text-align: right;\">\n",
       "      <th></th>\n",
       "      <th>0</th>\n",
       "      <th>1</th>\n",
       "    </tr>\n",
       "  </thead>\n",
       "  <tbody>\n",
       "    <tr>\n",
       "      <th>0</th>\n",
       "      <td>2018-01-01</td>\n",
       "      <td>13</td>\n",
       "    </tr>\n",
       "    <tr>\n",
       "      <th>1</th>\n",
       "      <td>2018-01-02</td>\n",
       "      <td>15</td>\n",
       "    </tr>\n",
       "    <tr>\n",
       "      <th>2</th>\n",
       "      <td>2018-01-03</td>\n",
       "      <td>16</td>\n",
       "    </tr>\n",
       "    <tr>\n",
       "      <th>3</th>\n",
       "      <td>2018-01-04</td>\n",
       "      <td>19</td>\n",
       "    </tr>\n",
       "    <tr>\n",
       "      <th>4</th>\n",
       "      <td>2018-01-05</td>\n",
       "      <td>21</td>\n",
       "    </tr>\n",
       "  </tbody>\n",
       "</table>\n",
       "</div>"
      ],
      "text/plain": [
       "            0   1\n",
       "0  2018-01-01  13\n",
       "1  2018-01-02  15\n",
       "2  2018-01-03  16\n",
       "3  2018-01-04  19\n",
       "4  2018-01-05  21"
      ]
     },
     "execution_count": 52,
     "metadata": {},
     "output_type": "execute_result"
    }
   ],
   "source": [
    "before_2020 = df.loc[df[0] < date1]\n",
    "before_2020.head()"
   ]
  },
  {
   "cell_type": "code",
   "execution_count": 54,
   "id": "f58272c2",
   "metadata": {},
   "outputs": [
    {
     "data": {
      "text/html": [
       "<div>\n",
       "<style scoped>\n",
       "    .dataframe tbody tr th:only-of-type {\n",
       "        vertical-align: middle;\n",
       "    }\n",
       "\n",
       "    .dataframe tbody tr th {\n",
       "        vertical-align: top;\n",
       "    }\n",
       "\n",
       "    .dataframe thead th {\n",
       "        text-align: right;\n",
       "    }\n",
       "</style>\n",
       "<table border=\"1\" class=\"dataframe\">\n",
       "  <thead>\n",
       "    <tr style=\"text-align: right;\">\n",
       "      <th></th>\n",
       "      <th>0</th>\n",
       "      <th>1</th>\n",
       "    </tr>\n",
       "  </thead>\n",
       "  <tbody>\n",
       "    <tr>\n",
       "      <th>730</th>\n",
       "      <td>2020-01-01</td>\n",
       "      <td>13</td>\n",
       "    </tr>\n",
       "    <tr>\n",
       "      <th>731</th>\n",
       "      <td>2020-01-02</td>\n",
       "      <td>11</td>\n",
       "    </tr>\n",
       "    <tr>\n",
       "      <th>732</th>\n",
       "      <td>2020-01-03</td>\n",
       "      <td>13</td>\n",
       "    </tr>\n",
       "    <tr>\n",
       "      <th>733</th>\n",
       "      <td>2020-01-04</td>\n",
       "      <td>7</td>\n",
       "    </tr>\n",
       "    <tr>\n",
       "      <th>734</th>\n",
       "      <td>2020-01-05</td>\n",
       "      <td>16</td>\n",
       "    </tr>\n",
       "  </tbody>\n",
       "</table>\n",
       "</div>"
      ],
      "text/plain": [
       "              0   1\n",
       "730  2020-01-01  13\n",
       "731  2020-01-02  11\n",
       "732  2020-01-03  13\n",
       "733  2020-01-04   7\n",
       "734  2020-01-05  16"
      ]
     },
     "execution_count": 54,
     "metadata": {},
     "output_type": "execute_result"
    }
   ],
   "source": [
    "after_2020 = df.loc[df[0] >= date1]\n",
    "after_2020.head()"
   ]
  },
  {
   "cell_type": "code",
   "execution_count": 55,
   "id": "cb67ad5f",
   "metadata": {},
   "outputs": [
    {
     "data": {
      "text/plain": [
       "1528"
      ]
     },
     "execution_count": 55,
     "metadata": {},
     "output_type": "execute_result"
    }
   ],
   "source": [
    "len(before_2020)+len(after_2020)"
   ]
  },
  {
   "cell_type": "markdown",
   "id": "45cd9022",
   "metadata": {},
   "source": [
    " "
   ]
  },
  {
   "cell_type": "markdown",
   "id": "ab583af0",
   "metadata": {},
   "source": [
    " "
   ]
  },
  {
   "cell_type": "markdown",
   "id": "b25234d9",
   "metadata": {},
   "source": [
    "## Statistics of the number of article published before 2020-01-01\n"
   ]
  },
  {
   "cell_type": "code",
   "execution_count": 56,
   "id": "44ac3fe5",
   "metadata": {},
   "outputs": [
    {
     "data": {
      "text/html": [
       "<div>\n",
       "<style scoped>\n",
       "    .dataframe tbody tr th:only-of-type {\n",
       "        vertical-align: middle;\n",
       "    }\n",
       "\n",
       "    .dataframe tbody tr th {\n",
       "        vertical-align: top;\n",
       "    }\n",
       "\n",
       "    .dataframe thead th {\n",
       "        text-align: right;\n",
       "    }\n",
       "</style>\n",
       "<table border=\"1\" class=\"dataframe\">\n",
       "  <thead>\n",
       "    <tr style=\"text-align: right;\">\n",
       "      <th></th>\n",
       "      <th>1</th>\n",
       "    </tr>\n",
       "  </thead>\n",
       "  <tbody>\n",
       "    <tr>\n",
       "      <th>count</th>\n",
       "      <td>730.000000</td>\n",
       "    </tr>\n",
       "    <tr>\n",
       "      <th>mean</th>\n",
       "      <td>27.395890</td>\n",
       "    </tr>\n",
       "    <tr>\n",
       "      <th>std</th>\n",
       "      <td>10.432525</td>\n",
       "    </tr>\n",
       "    <tr>\n",
       "      <th>min</th>\n",
       "      <td>5.000000</td>\n",
       "    </tr>\n",
       "    <tr>\n",
       "      <th>25%</th>\n",
       "      <td>20.000000</td>\n",
       "    </tr>\n",
       "    <tr>\n",
       "      <th>50%</th>\n",
       "      <td>27.000000</td>\n",
       "    </tr>\n",
       "    <tr>\n",
       "      <th>75%</th>\n",
       "      <td>34.000000</td>\n",
       "    </tr>\n",
       "    <tr>\n",
       "      <th>max</th>\n",
       "      <td>77.000000</td>\n",
       "    </tr>\n",
       "  </tbody>\n",
       "</table>\n",
       "</div>"
      ],
      "text/plain": [
       "                1\n",
       "count  730.000000\n",
       "mean    27.395890\n",
       "std     10.432525\n",
       "min      5.000000\n",
       "25%     20.000000\n",
       "50%     27.000000\n",
       "75%     34.000000\n",
       "max     77.000000"
      ]
     },
     "execution_count": 56,
     "metadata": {},
     "output_type": "execute_result"
    }
   ],
   "source": [
    "before_2020.describe()"
   ]
  },
  {
   "cell_type": "markdown",
   "id": "82cc22af",
   "metadata": {},
   "source": [
    "## Statistics of the number of article published since 2020-01-01\n"
   ]
  },
  {
   "cell_type": "code",
   "execution_count": 57,
   "id": "cb671b04",
   "metadata": {},
   "outputs": [
    {
     "data": {
      "text/html": [
       "<div>\n",
       "<style scoped>\n",
       "    .dataframe tbody tr th:only-of-type {\n",
       "        vertical-align: middle;\n",
       "    }\n",
       "\n",
       "    .dataframe tbody tr th {\n",
       "        vertical-align: top;\n",
       "    }\n",
       "\n",
       "    .dataframe thead th {\n",
       "        text-align: right;\n",
       "    }\n",
       "</style>\n",
       "<table border=\"1\" class=\"dataframe\">\n",
       "  <thead>\n",
       "    <tr style=\"text-align: right;\">\n",
       "      <th></th>\n",
       "      <th>1</th>\n",
       "    </tr>\n",
       "  </thead>\n",
       "  <tbody>\n",
       "    <tr>\n",
       "      <th>count</th>\n",
       "      <td>798.000000</td>\n",
       "    </tr>\n",
       "    <tr>\n",
       "      <th>mean</th>\n",
       "      <td>12.048872</td>\n",
       "    </tr>\n",
       "    <tr>\n",
       "      <th>std</th>\n",
       "      <td>6.074103</td>\n",
       "    </tr>\n",
       "    <tr>\n",
       "      <th>min</th>\n",
       "      <td>1.000000</td>\n",
       "    </tr>\n",
       "    <tr>\n",
       "      <th>25%</th>\n",
       "      <td>8.000000</td>\n",
       "    </tr>\n",
       "    <tr>\n",
       "      <th>50%</th>\n",
       "      <td>11.000000</td>\n",
       "    </tr>\n",
       "    <tr>\n",
       "      <th>75%</th>\n",
       "      <td>15.000000</td>\n",
       "    </tr>\n",
       "    <tr>\n",
       "      <th>max</th>\n",
       "      <td>43.000000</td>\n",
       "    </tr>\n",
       "  </tbody>\n",
       "</table>\n",
       "</div>"
      ],
      "text/plain": [
       "                1\n",
       "count  798.000000\n",
       "mean    12.048872\n",
       "std      6.074103\n",
       "min      1.000000\n",
       "25%      8.000000\n",
       "50%     11.000000\n",
       "75%     15.000000\n",
       "max     43.000000"
      ]
     },
     "execution_count": 57,
     "metadata": {},
     "output_type": "execute_result"
    }
   ],
   "source": [
    "after_2020.describe()"
   ]
  },
  {
   "cell_type": "markdown",
   "id": "a13cf8dd",
   "metadata": {},
   "source": [
    " "
   ]
  },
  {
   "cell_type": "markdown",
   "id": "36f21710",
   "metadata": {},
   "source": [
    " "
   ]
  },
  {
   "cell_type": "markdown",
   "id": "83003ef3",
   "metadata": {},
   "source": [
    "## Unusual event in the time series\n",
    "\n",
    "- It is evident from the time series that the frequency of article has dropped from the year 2020.\n",
    "- It can be confirmed by the average value of the articles published before and after 2020-01-01.\n",
    "- The period before 2020 has higher max value, min value and average value of the number of articles.\n",
    "- It gives an impression that some event must have occurred at the beginning of the year 2020 which might caused such difference.\n",
    "- Also, the maximum value of the number of articles is observed on 2019-12-13. It signifies the occurrence of an major event happening around that day."
   ]
  },
  {
   "cell_type": "markdown",
   "id": "a45c4421",
   "metadata": {},
   "source": [
    "- The date of Brexit is 2020-01-31 which is consistent which our observation above. The finalization of Brexit is the event  which caused the change in the media coverage of the topic and hence decline in the average value of the number of articles.\n",
    "- Also as confirmed from the EU Calendar, Brexit details were discussed on 2019-12-13 which might have caused the highest number of articles published on that day."
   ]
  }
 ],
 "metadata": {
  "kernelspec": {
   "display_name": "Python 3 (ipykernel)",
   "language": "python",
   "name": "python3"
  },
  "language_info": {
   "codemirror_mode": {
    "name": "ipython",
    "version": 3
   },
   "file_extension": ".py",
   "mimetype": "text/x-python",
   "name": "python",
   "nbconvert_exporter": "python",
   "pygments_lexer": "ipython3",
   "version": "3.10.1"
  }
 },
 "nbformat": 4,
 "nbformat_minor": 5
}
